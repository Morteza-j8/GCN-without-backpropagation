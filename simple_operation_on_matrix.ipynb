{
  "nbformat": 4,
  "nbformat_minor": 0,
  "metadata": {
    "colab": {
      "name": "simple operation on matrix.ipynb",
      "provenance": []
    },
    "kernelspec": {
      "name": "python3",
      "display_name": "Python 3"
    },
    "language_info": {
      "name": "python"
    }
  },
  "cells": [
    {
      "cell_type": "code",
      "metadata": {
        "id": "jR30wYy5mhQX"
      },
      "source": [
        "import numpy as np\n",
        "from scipy.linalg import fractional_matrix_power\n",
        "import networkx as nx\n",
        "import matplotlib.pyplot as plt"
      ],
      "execution_count": 1,
      "outputs": []
    },
    {
      "cell_type": "code",
      "metadata": {
        "id": "xOwDP_mZxMsw"
      },
      "source": [
        "#defuine graph\n",
        "G = nx.Graph(name='G')\n",
        "for i in range(6):\n",
        "  G.add_node(i, name=i)\n",
        "  \n",
        "#Define the edges and the edges to the graph\n",
        "#edges = [(0,1),(0,2),(1,2),(0,3),(3,4),(3,5),(4,5)]\n",
        "edges = [(0,1),(0,2),(0,3),(3,4),(3,5)]\n",
        "\n",
        "\n",
        "G.add_edges_from(edges)"
      ],
      "execution_count": 2,
      "outputs": []
    },
    {
      "cell_type": "code",
      "metadata": {
        "colab": {
          "base_uri": "https://localhost:8080/",
          "height": 319
        },
        "id": "7yLMuRgAxvXk",
        "outputId": "45769e3a-6272-46af-d151-b05258569acb"
      },
      "source": [
        "#Plot the graph\n",
        "randomColors = ['#ff9090', '#ffd186', '#97b2fe', '#a2ff9f', '#ffb6f6', '#b6fbff']\n",
        "color_map = []\n",
        "for iColor, node in enumerate(G):\n",
        "    color_map.append(randomColors[iColor % len(randomColors)])\n",
        "nx.draw(G, node_color=color_map, with_labels=True, node_size=1000)\n",
        "plt.show()\n"
      ],
      "execution_count": 3,
      "outputs": [
        {
          "output_type": "display_data",
          "data": {
            "image/png": "[encoded data removed]",
            "text/plain": [
              "<Figure size 432x288 with 1 Axes>"
            ]
          },
          "metadata": {}
        }
      ]
    },
    {
      "cell_type": "code",
      "metadata": {
        "id": "fuQ_E2duw2eH"
      },
      "source": [
        "A = np.array(nx.attr_matrix(G, node_attr='name')[0])\n",
        "X = np.array(nx.attr_matrix(G, node_attr='name')[1])"
      ],
      "execution_count": 4,
      "outputs": []
    },
    {
      "cell_type": "code",
      "metadata": {
        "colab": {
          "base_uri": "https://localhost:8080/"
        },
        "id": "jTDYw18c_e-q",
        "outputId": "d6611e5b-394b-41bc-c39a-0fe9c72cfa83"
      },
      "source": [
        "#X = np.identity(A.shape[0])\n",
        "X"
      ],
      "execution_count": 5,
      "outputs": [
        {
          "output_type": "execute_result",
          "data": {
            "text/plain": [
              "array([0, 1, 2, 3, 4, 5])"
            ]
          },
          "metadata": {},
          "execution_count": 5
        }
      ]
    },
    {
      "cell_type": "code",
      "metadata": {
        "id": "WPYAzwXDx9_E",
        "colab": {
          "base_uri": "https://localhost:8080/"
        },
        "outputId": "1e57d7af-5468-4b96-ef5b-4f76de841def"
      },
      "source": [
        "#X = np.array([1,1,1 , 1,1,1])\n",
        "X"
      ],
      "execution_count": 6,
      "outputs": [
        {
          "output_type": "execute_result",
          "data": {
            "text/plain": [
              "array([0, 1, 2, 3, 4, 5])"
            ]
          },
          "metadata": {},
          "execution_count": 6
        }
      ]
    },
    {
      "cell_type": "code",
      "metadata": {
        "id": "KJocy77SEF4u"
      },
      "source": [
        "X = np.expand_dims(X,axis=1)"
      ],
      "execution_count": 7,
      "outputs": []
    },
    {
      "cell_type": "code",
      "metadata": {
        "id": "jxSyV6KPwqOW"
      },
      "source": [
        "#Implement ReLu as activation function\n",
        "def relu(x):\n",
        "    return np.maximum(0,x)"
      ],
      "execution_count": 8,
      "outputs": []
    },
    {
      "cell_type": "code",
      "metadata": {
        "id": "RFkJuFY5wtGX"
      },
      "source": [
        "#Initialize the weights\n",
        "np.random.seed(77777)\n",
        "n_h = 4 #number of neurons in the hidden layer\n",
        "n_y = 2 #number of neurons in the output layer\n",
        "W0 = np.random.randn(X.shape[1],n_h) * 0.01\n",
        "W1 = np.random.randn(n_h,n_y) * 0.01"
      ],
      "execution_count": 14,
      "outputs": []
    },
    {
      "cell_type": "code",
      "metadata": {
        "id": "FBgfSCegwqQm"
      },
      "source": [
        "#Build GCN layer\n",
        "#In this function, we implement numpy to simplify\n",
        "def gcn(A,H,W):\n",
        "    I = np.identity(A.shape[0]) #create Identity Matrix of A\n",
        "    A_hat = A + I #add self-loop to A\n",
        "    D = np.diag(np.sum(A_hat, axis=0)) #create Degree Matrix of A\n",
        "    D_half_norm = fractional_matrix_power(D, -0.5) #calculate D to the power of -0.5\n",
        "    eq1 = D_half_norm.dot(A_hat)\n",
        "    eq2 = eq1.dot(D_half_norm)\n",
        "    eq3 = eq2.dot(H)\n",
        "    eq4 = eq3.dot(W)\n",
        "\n",
        "    return relu(eq4)"
      ],
      "execution_count": 10,
      "outputs": []
    },
    {
      "cell_type": "code",
      "metadata": {
        "colab": {
          "base_uri": "https://localhost:8080/"
        },
        "id": "N5VhEVfCwqS9",
        "outputId": "5dbe399e-2e99-4d21-a859-c4fb851fc332"
      },
      "source": [
        "#Do forward propagation\n",
        "H1 = gcn(A,X,W0)\n",
        "H2 = gcn(A,H1,W1)\n",
        "print('Features Representation from GCN output:\\n', H2)"
      ],
      "execution_count": 15,
      "outputs": [
        {
          "output_type": "stream",
          "name": "stdout",
          "text": [
            "Features Representation from GCN output:\n",
            " [[0.00030011 0.        ]\n",
            " [0.00013588 0.        ]\n",
            " [0.00017405 0.        ]\n",
            " [0.00057651 0.        ]\n",
            " [0.00044582 0.        ]\n",
            " [0.00048398 0.        ]]\n"
          ]
        }
      ]
    },
    {
      "cell_type": "code",
      "metadata": {
        "id": "3XEDdYKcjLN6"
      },
      "source": [
        "def plot_features(H2):\n",
        "    #Plot the features representation\n",
        "    x = H2[:,0]\n",
        "    y = H2[:,1]\n",
        "\n",
        "\n",
        "    size = 1000\n",
        "\n",
        "    plt.scatter(x,y,size)\n",
        "    #plt.xlim([np.min(x)*0.85, np.max(x)*1.1])\n",
        "    #plt.ylim([-1, 1])\n",
        "    plt.xlabel('Dimension 0')\n",
        "    plt.ylabel('Dimension 1')\n",
        "\n",
        "    for i,row in enumerate(H2):\n",
        "        str = \"{}\".format(i)\n",
        "        plt.annotate(str, (row[0],row[1]),fontsize=18, fontweight='bold', color = 'w'  )\n",
        "\n",
        "\n",
        "    plt.show()\n",
        "\n",
        "\n",
        "\n"
      ],
      "execution_count": 12,
      "outputs": []
    },
    {
      "cell_type": "code",
      "metadata": {
        "colab": {
          "base_uri": "https://localhost:8080/",
          "height": 279
        },
        "id": "1IiQbI49jQGg",
        "outputId": "b4a602c9-eb1d-4ed3-f512-e39a945ca8ae"
      },
      "source": [
        "plot_features(H2)"
      ],
      "execution_count": 16,
      "outputs": [
        {
          "output_type": "display_data",
          "data": {
            "image/png": "[encoded data removed]",
            "text/plain": [
              "<Figure size 432x288 with 1 Axes>"
            ]
          },
          "metadata": {
            "needs_background": "light"
          }
        }
      ]
    }
  ]
}